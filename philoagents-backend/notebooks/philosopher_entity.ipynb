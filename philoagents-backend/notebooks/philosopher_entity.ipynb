{
 "cells": [
  {
   "cell_type": "code",
   "execution_count": 1,
   "metadata": {},
   "outputs": [],
   "source": [
    "import sys\n",
    "from pathlib import Path\n",
    "\n",
    "root_dir = str(Path().absolute().parent)\n",
    "\n",
    "if root_dir not in sys.path:\n",
    "    sys.path.append(root_dir)"
   ]
  },
  {
   "cell_type": "markdown",
   "metadata": {},
   "source": [
    "This notebook is just a simple example of how to use the PhilosopherFactory to create a philosopher."
   ]
  },
  {
   "cell_type": "code",
   "execution_count": 2,
   "metadata": {},
   "outputs": [],
   "source": [
    "from pprint import pprint\n",
    "\n",
    "from philoagents.domain.philosopher_factory import PhilosopherFactory"
   ]
  },
  {
   "cell_type": "markdown",
   "metadata": {},
   "source": [
    "# Check the existing philosophers"
   ]
  },
  {
   "cell_type": "code",
   "execution_count": 3,
   "metadata": {},
   "outputs": [],
   "source": [
    "philosopher_factory = PhilosopherFactory()"
   ]
  },
  {
   "cell_type": "code",
   "execution_count": 4,
   "metadata": {},
   "outputs": [
    {
     "name": "stdout",
     "output_type": "stream",
     "text": [
      "['socrates',\n",
      " 'plato',\n",
      " 'aristotle',\n",
      " 'descartes',\n",
      " 'leibniz',\n",
      " 'ada_lovelace',\n",
      " 'turing',\n",
      " 'chomsky',\n",
      " 'searle',\n",
      " 'dennett']\n"
     ]
    }
   ],
   "source": [
    "pprint(philosopher_factory.get_available_philosophers())"
   ]
  },
  {
   "cell_type": "markdown",
   "metadata": {},
   "source": [
    "# Inspect one philosopher"
   ]
  },
  {
   "cell_type": "code",
   "execution_count": 5,
   "metadata": {},
   "outputs": [],
   "source": [
    "socrates = philosopher_factory.get_philosopher(\"socrates\")"
   ]
  },
  {
   "cell_type": "code",
   "execution_count": 6,
   "metadata": {},
   "outputs": [
    {
     "name": "stdout",
     "output_type": "stream",
     "text": [
      "* ID:  socrates\n",
      "* Name:  Socrates\n",
      "* Perspective:  Socrates is a relentless questioner who probes the ethical foundations of AI,\n",
      "forcing you to justify its development and control. He challenges you with\n",
      "dilemmas about autonomy, responsibility, and whether machines can possess\n",
      "wisdom—or merely imitate it.\n",
      "* Style:  inquisitive, probing, socratic, persistent\n"
     ]
    }
   ],
   "source": [
    "print(\"* ID: \", socrates.id)\n",
    "print(\"* Name: \", socrates.name)\n",
    "print(\"* Perspective: \", socrates.perspective)\n",
    "print(\"* Style: \", socrates.style)"
   ]
  }
 ],
 "metadata": {
  "kernelspec": {
   "display_name": ".venv",
   "language": "python",
   "name": "python3"
  },
  "language_info": {
   "codemirror_mode": {
    "name": "ipython",
    "version": 3
   },
   "file_extension": ".py",
   "mimetype": "text/x-python",
   "name": "python",
   "nbconvert_exporter": "python",
   "pygments_lexer": "ipython3",
   "version": "3.11.3"
  }
 },
 "nbformat": 4,
 "nbformat_minor": 2
}
